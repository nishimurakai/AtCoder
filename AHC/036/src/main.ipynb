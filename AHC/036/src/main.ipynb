{
 "cells": [
  {
   "cell_type": "code",
   "execution_count": 3,
   "metadata": {},
   "outputs": [],
   "source": [
    "import numpy as np\n",
    "import pandas as pd"
   ]
  },
  {
   "cell_type": "code",
   "execution_count": 4,
   "metadata": {},
   "outputs": [
    {
     "ename": "ValueError",
     "evalue": "not enough values to unpack (expected 5, got 0)",
     "output_type": "error",
     "traceback": [
      "\u001b[0;31m---------------------------------------------------------------------------\u001b[0m",
      "\u001b[0;31mValueError\u001b[0m                                Traceback (most recent call last)",
      "Cell \u001b[0;32mIn[4], line 1\u001b[0m\n\u001b[0;32m----> 1\u001b[0m N, M, T, L_A, L_B \u001b[38;5;241m=\u001b[39m \u001b[38;5;28mmap\u001b[39m(\u001b[38;5;28mint\u001b[39m, \u001b[38;5;28minput\u001b[39m()\u001b[38;5;241m.\u001b[39msplit())\n",
      "\u001b[0;31mValueError\u001b[0m: not enough values to unpack (expected 5, got 0)"
     ]
    }
   ],
   "source": [
    "N, M, T, L_A, L_B = map(int, input().split())"
   ]
  },
  {
   "cell_type": "code",
   "execution_count": null,
   "metadata": {},
   "outputs": [],
   "source": [
    "# 入力を格納するリスト\n",
    "edges = []\n",
    "\n",
    "for _ in range(M):\n",
    "\n",
    "    # 入力をスペース区切りで分割\n",
    "    u, v = map(int, input().split())\n",
    "    \n",
    "    # 分割された値をリストに追加\n",
    "    edges.append([u, v])"
   ]
  },
  {
   "cell_type": "code",
   "execution_count": null,
   "metadata": {},
   "outputs": [],
   "source": [
    "t = []\n",
    "t = map(int, input().split())"
   ]
  },
  {
   "cell_type": "code",
   "execution_count": null,
   "metadata": {},
   "outputs": [],
   "source": [
    "# 座標入力を格納するリスト\n",
    "x = []\n",
    "y = []\n",
    "\n",
    "for _ in range(N):\n",
    "\n",
    "    # 入力をスペース区切りで分割\n",
    "    x_, y_ = map(int, input().split())\n",
    "    \n",
    "    # 分割された値をリストに追加\n",
    "    x.append(x_)\n",
    "    y.append(y_)"
   ]
  },
  {
   "cell_type": "code",
   "execution_count": null,
   "metadata": {},
   "outputs": [],
   "source": [
    "from collections import deque, defaultdict"
   ]
  },
  {
   "cell_type": "code",
   "execution_count": null,
   "metadata": {},
   "outputs": [],
   "source": [
    "# def bfs(start, graph, n):\n",
    "#     distances = [-1] * n\n",
    "#     distances[start] = 0\n",
    "#     queue = deque([start])\n",
    "    \n",
    "#     while queue:\n",
    "#         node = queue.popleft()\n",
    "#         for neighbor in graph[node]:\n",
    "#             if distances[neighbor] == -1:\n",
    "#                 distances[neighbor] = distances[node] + 1\n",
    "#                 queue.append(neighbor)\n",
    "    \n",
    "#     max_distance = max(distances)\n",
    "#     farthest_node = distances.index(max_distance)\n",
    "#     return farthest_node, max_distance, distances"
   ]
  },
  {
   "cell_type": "code",
   "execution_count": null,
   "metadata": {},
   "outputs": [],
   "source": [
    "# def find_min_diameter_tree(n, edges):\n",
    "#     graph = defaultdict(list)\n",
    "#     for u, v in edges:\n",
    "#         graph[u].append(v)\n",
    "#         graph[v].append(u)\n",
    "    \n",
    "#     # 任意の頂点から最遠の頂点を見つける\n",
    "#     farthest_node, _, _ = bfs(0, graph, n)\n",
    "    \n",
    "#     # その最遠の頂点からさらに最遠の頂点を見つける\n",
    "#     opposite_node, diameter, distances = bfs(farthest_node, graph, n)\n",
    "    \n",
    "#     # 最小直径の木の中心を見つける\n",
    "#     path = []\n",
    "#     current = opposite_node\n",
    "#     while current != farthest_node:\n",
    "#         path.append(current)\n",
    "#         for neighbor in graph[current]:\n",
    "#             if distances[neighbor] == distances[current] - 1:\n",
    "#                 current = neighbor\n",
    "#                 break\n",
    "#     path.append(farthest_node)\n",
    "    \n",
    "#     center = path[len(path) // 2]\n",
    "    \n",
    "#     return center, diameter, graph"
   ]
  },
  {
   "cell_type": "code",
   "execution_count": null,
   "metadata": {},
   "outputs": [],
   "source": [
    "def bfs_path(graph, start, goal):\n",
    "    queue = deque([(start, [start])])\n",
    "    visited = set()\n",
    "    \n",
    "    while queue:\n",
    "        current, path = queue.popleft()\n",
    "        \n",
    "        if current == goal:\n",
    "            return path\n",
    "        \n",
    "        if current not in visited:\n",
    "            visited.add(current)\n",
    "            for neighbor in graph[current]:\n",
    "                if neighbor not in visited:\n",
    "                    queue.append((neighbor, path + [neighbor]))\n",
    "    \n",
    "    return None"
   ]
  },
  {
   "cell_type": "code",
   "execution_count": null,
   "metadata": {},
   "outputs": [
    {
     "name": "stdout",
     "output_type": "stream",
     "text": [
      "最小直径の木の中心の頂点は: 3\n",
      "最小直径の木の直径は: 3\n",
      "最小直径の木の隣接リストは: {0: [1, 2, 3, 6], 1: [0, 2], 2: [0, 1, 3], 3: [0, 2, 4], 4: [3, 5], 5: [4, 6], 6: [5, 0]}\n"
     ]
    }
   ],
   "source": [
    "# 最小直径の木を見つける\n",
    "# center, min_diameter, tree = find_min_diameter_tree(N, edges)\n",
    "# print(f\"最小直径の木の中心の頂点は: {center}\")\n",
    "# print(f\"最小直径の木の直径は: {min_diameter}\")\n",
    "# print(f\"最小直径の木の隣接リストは: {dict(tree)}\")"
   ]
  },
  {
   "cell_type": "code",
   "execution_count": null,
   "metadata": {},
   "outputs": [
    {
     "ename": "NameError",
     "evalue": "name 'edges' is not defined",
     "output_type": "error",
     "traceback": [
      "\u001b[0;31m---------------------------------------------------------------------------\u001b[0m",
      "\u001b[0;31mNameError\u001b[0m                                 Traceback (most recent call last)",
      "Cell \u001b[0;32mIn[2], line 2\u001b[0m\n\u001b[1;32m      1\u001b[0m \u001b[38;5;66;03m# パスを見つける\u001b[39;00m\n\u001b[0;32m----> 2\u001b[0m path \u001b[38;5;241m=\u001b[39m bfs_path(\u001b[43medges\u001b[49m, \u001b[38;5;241m0\u001b[39m, \u001b[38;5;241m4\u001b[39m)\n\u001b[1;32m      4\u001b[0m \u001b[38;5;28;01mif\u001b[39;00m path:\n\u001b[1;32m      5\u001b[0m     \u001b[38;5;28mprint\u001b[39m(\u001b[38;5;124mf\u001b[39m\u001b[38;5;124m\"\u001b[39m\u001b[38;5;124mパス: \u001b[39m\u001b[38;5;132;01m{\u001b[39;00m\u001b[38;5;124m'\u001b[39m\u001b[38;5;124m -> \u001b[39m\u001b[38;5;124m'\u001b[39m\u001b[38;5;241m.\u001b[39mjoin(\u001b[38;5;28mmap\u001b[39m(\u001b[38;5;28mstr\u001b[39m,\u001b[38;5;250m \u001b[39mpath))\u001b[38;5;132;01m}\u001b[39;00m\u001b[38;5;124m\"\u001b[39m)\n",
      "\u001b[0;31mNameError\u001b[0m: name 'edges' is not defined"
     ]
    }
   ],
   "source": [
    "# パスを見つける\n",
    "path = bfs_path(edges, 0, 4)\n",
    "\n",
    "if path:\n",
    "    print(f\"パス: {' -> '.join(map(str, path))}\")\n",
    "else:\n",
    "    print(\"パスが見つかりませんでした。\")"
   ]
  }
 ],
 "metadata": {
  "kernelspec": {
   "display_name": "Python 3",
   "language": "python",
   "name": "python3"
  },
  "language_info": {
   "codemirror_mode": {
    "name": "ipython",
    "version": 3
   },
   "file_extension": ".py",
   "mimetype": "text/x-python",
   "name": "python",
   "nbconvert_exporter": "python",
   "pygments_lexer": "ipython3",
   "version": "3.12.5"
  }
 },
 "nbformat": 4,
 "nbformat_minor": 2
}
